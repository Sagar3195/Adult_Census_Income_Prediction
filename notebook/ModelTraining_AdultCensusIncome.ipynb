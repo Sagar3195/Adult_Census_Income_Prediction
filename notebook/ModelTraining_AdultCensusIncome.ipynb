{
  "cells": [
    {
      "cell_type": "code",
      "execution_count": 1,
      "metadata": {
        "id": "ZYpT9ccyLJM6"
      },
      "outputs": [],
      "source": [
        "#Importing required libraries\n",
        "import pandas as pd\n",
        "import numpy as np\n",
        "import matplotlib.pyplot as plt\n",
        "import seaborn as sns\n",
        "import warnings\n",
        "warnings.filterwarnings('ignore')"
      ]
    },
    {
      "cell_type": "code",
      "execution_count": 2,
      "metadata": {
        "id": "52YwSxKSM8Cy"
      },
      "outputs": [],
      "source": [
        "#Importing dataset\n",
        "df = pd.read_csv(\"dataset/cleaned_adult_data.csv\")"
      ]
    },
    {
      "cell_type": "code",
      "execution_count": 3,
      "metadata": {
        "colab": {
          "base_uri": "https://localhost:8080/",
          "height": 423
        },
        "id": "P5vgCtXaM8F_",
        "outputId": "9783365a-1c51-4792-e9e9-287eddef78fe"
      },
      "outputs": [
        {
          "data": {
            "text/html": [
              "<div>\n",
              "<style scoped>\n",
              "    .dataframe tbody tr th:only-of-type {\n",
              "        vertical-align: middle;\n",
              "    }\n",
              "\n",
              "    .dataframe tbody tr th {\n",
              "        vertical-align: top;\n",
              "    }\n",
              "\n",
              "    .dataframe thead th {\n",
              "        text-align: right;\n",
              "    }\n",
              "</style>\n",
              "<table border=\"1\" class=\"dataframe\">\n",
              "  <thead>\n",
              "    <tr style=\"text-align: right;\">\n",
              "      <th></th>\n",
              "      <th>age</th>\n",
              "      <th>workclass</th>\n",
              "      <th>fnlwgt</th>\n",
              "      <th>education</th>\n",
              "      <th>education-num</th>\n",
              "      <th>marital-status</th>\n",
              "      <th>occupation</th>\n",
              "      <th>relationship</th>\n",
              "      <th>race</th>\n",
              "      <th>sex</th>\n",
              "      <th>capital-gain</th>\n",
              "      <th>capital-loss</th>\n",
              "      <th>hours-per-week</th>\n",
              "      <th>country</th>\n",
              "      <th>salary</th>\n",
              "    </tr>\n",
              "  </thead>\n",
              "  <tbody>\n",
              "    <tr>\n",
              "      <th>0</th>\n",
              "      <td>39</td>\n",
              "      <td>State-gov</td>\n",
              "      <td>77516</td>\n",
              "      <td>Bachelors</td>\n",
              "      <td>13</td>\n",
              "      <td>Never-married</td>\n",
              "      <td>Adm-clerical</td>\n",
              "      <td>Not-in-family</td>\n",
              "      <td>White</td>\n",
              "      <td>Male</td>\n",
              "      <td>2174</td>\n",
              "      <td>0</td>\n",
              "      <td>40</td>\n",
              "      <td>United-States</td>\n",
              "      <td>&lt;=50K</td>\n",
              "    </tr>\n",
              "    <tr>\n",
              "      <th>1</th>\n",
              "      <td>50</td>\n",
              "      <td>Self-emp-not-inc</td>\n",
              "      <td>83311</td>\n",
              "      <td>Bachelors</td>\n",
              "      <td>13</td>\n",
              "      <td>Married-civ-spouse</td>\n",
              "      <td>Exec-managerial</td>\n",
              "      <td>Husband</td>\n",
              "      <td>White</td>\n",
              "      <td>Male</td>\n",
              "      <td>0</td>\n",
              "      <td>0</td>\n",
              "      <td>13</td>\n",
              "      <td>United-States</td>\n",
              "      <td>&lt;=50K</td>\n",
              "    </tr>\n",
              "    <tr>\n",
              "      <th>2</th>\n",
              "      <td>38</td>\n",
              "      <td>Private</td>\n",
              "      <td>215646</td>\n",
              "      <td>HS-grad</td>\n",
              "      <td>9</td>\n",
              "      <td>Divorced</td>\n",
              "      <td>Handlers-cleaners</td>\n",
              "      <td>Not-in-family</td>\n",
              "      <td>White</td>\n",
              "      <td>Male</td>\n",
              "      <td>0</td>\n",
              "      <td>0</td>\n",
              "      <td>40</td>\n",
              "      <td>United-States</td>\n",
              "      <td>&lt;=50K</td>\n",
              "    </tr>\n",
              "    <tr>\n",
              "      <th>3</th>\n",
              "      <td>53</td>\n",
              "      <td>Private</td>\n",
              "      <td>234721</td>\n",
              "      <td>11th</td>\n",
              "      <td>7</td>\n",
              "      <td>Married-civ-spouse</td>\n",
              "      <td>Handlers-cleaners</td>\n",
              "      <td>Husband</td>\n",
              "      <td>Black</td>\n",
              "      <td>Male</td>\n",
              "      <td>0</td>\n",
              "      <td>0</td>\n",
              "      <td>40</td>\n",
              "      <td>United-States</td>\n",
              "      <td>&lt;=50K</td>\n",
              "    </tr>\n",
              "    <tr>\n",
              "      <th>4</th>\n",
              "      <td>28</td>\n",
              "      <td>Private</td>\n",
              "      <td>338409</td>\n",
              "      <td>Bachelors</td>\n",
              "      <td>13</td>\n",
              "      <td>Married-civ-spouse</td>\n",
              "      <td>Prof-specialty</td>\n",
              "      <td>Wife</td>\n",
              "      <td>Black</td>\n",
              "      <td>Female</td>\n",
              "      <td>0</td>\n",
              "      <td>0</td>\n",
              "      <td>40</td>\n",
              "      <td>Cuba</td>\n",
              "      <td>&lt;=50K</td>\n",
              "    </tr>\n",
              "  </tbody>\n",
              "</table>\n",
              "</div>"
            ],
            "text/plain": [
              "   age         workclass  fnlwgt  education  education-num  \\\n",
              "0   39         State-gov   77516  Bachelors             13   \n",
              "1   50  Self-emp-not-inc   83311  Bachelors             13   \n",
              "2   38           Private  215646    HS-grad              9   \n",
              "3   53           Private  234721       11th              7   \n",
              "4   28           Private  338409  Bachelors             13   \n",
              "\n",
              "       marital-status         occupation   relationship   race     sex  \\\n",
              "0       Never-married       Adm-clerical  Not-in-family  White    Male   \n",
              "1  Married-civ-spouse    Exec-managerial        Husband  White    Male   \n",
              "2            Divorced  Handlers-cleaners  Not-in-family  White    Male   \n",
              "3  Married-civ-spouse  Handlers-cleaners        Husband  Black    Male   \n",
              "4  Married-civ-spouse     Prof-specialty           Wife  Black  Female   \n",
              "\n",
              "   capital-gain  capital-loss  hours-per-week        country salary  \n",
              "0          2174             0              40  United-States  <=50K  \n",
              "1             0             0              13  United-States  <=50K  \n",
              "2             0             0              40  United-States  <=50K  \n",
              "3             0             0              40  United-States  <=50K  \n",
              "4             0             0              40           Cuba  <=50K  "
            ]
          },
          "execution_count": 3,
          "metadata": {},
          "output_type": "execute_result"
        }
      ],
      "source": [
        "#Top 5 records of dataset\n",
        "df.head()"
      ]
    },
    {
      "cell_type": "code",
      "execution_count": 4,
      "metadata": {
        "colab": {
          "base_uri": "https://localhost:8080/"
        },
        "id": "GlHQFEuWM8LX",
        "outputId": "25b7f3d1-292d-4661-e6d0-98bdd4119793"
      },
      "outputs": [
        {
          "data": {
            "text/plain": [
              "(32537, 15)"
            ]
          },
          "execution_count": 4,
          "metadata": {},
          "output_type": "execute_result"
        }
      ],
      "source": [
        "#Shape of dataset\n",
        "df.shape"
      ]
    },
    {
      "cell_type": "code",
      "execution_count": 5,
      "metadata": {
        "colab": {
          "base_uri": "https://localhost:8080/"
        },
        "id": "riIcSAV8M8Og",
        "outputId": "c4788643-a313-4d57-c2b7-783c1e847703"
      },
      "outputs": [
        {
          "data": {
            "text/plain": [
              "age               0\n",
              "workclass         0\n",
              "fnlwgt            0\n",
              "education         0\n",
              "education-num     0\n",
              "marital-status    0\n",
              "occupation        0\n",
              "relationship      0\n",
              "race              0\n",
              "sex               0\n",
              "capital-gain      0\n",
              "capital-loss      0\n",
              "hours-per-week    0\n",
              "country           0\n",
              "salary            0\n",
              "dtype: int64"
            ]
          },
          "execution_count": 5,
          "metadata": {},
          "output_type": "execute_result"
        }
      ],
      "source": [
        "#Checking missing values in dataset\n",
        "df.isnull().sum()"
      ]
    },
    {
      "cell_type": "code",
      "execution_count": 6,
      "metadata": {
        "colab": {
          "base_uri": "https://localhost:8080/"
        },
        "id": "GFq3MHkvNAv6",
        "outputId": "ea17fa0d-37bf-43fc-d22a-e3bd17ce226f"
      },
      "outputs": [
        {
          "data": {
            "text/plain": [
              "0"
            ]
          },
          "execution_count": 6,
          "metadata": {},
          "output_type": "execute_result"
        }
      ],
      "source": [
        "#Checking duplicated values in dataset\n",
        "df.duplicated().sum()"
      ]
    },
    {
      "cell_type": "code",
      "execution_count": 7,
      "metadata": {
        "id": "IoF6s1onN_Jt"
      },
      "outputs": [],
      "source": [
        "#Now we drop duplicated values from dataset\n",
        "df.drop_duplicates(inplace = True)"
      ]
    },
    {
      "cell_type": "code",
      "execution_count": 8,
      "metadata": {
        "colab": {
          "base_uri": "https://localhost:8080/"
        },
        "id": "fLWe9rm6N_My",
        "outputId": "d410183a-5027-4ebf-c5c9-72b694df1b5b"
      },
      "outputs": [
        {
          "data": {
            "text/plain": [
              "0"
            ]
          },
          "execution_count": 8,
          "metadata": {},
          "output_type": "execute_result"
        }
      ],
      "source": [
        "df.duplicated().sum()"
      ]
    },
    {
      "cell_type": "code",
      "execution_count": 9,
      "metadata": {
        "colab": {
          "base_uri": "https://localhost:8080/"
        },
        "id": "hcpSOyUpN_Qj",
        "outputId": "87e84050-f647-401d-8a1d-6769cd218504"
      },
      "outputs": [
        {
          "data": {
            "text/plain": [
              "Index(['age', 'workclass', 'fnlwgt', 'education', 'education-num',\n",
              "       'marital-status', 'occupation', 'relationship', 'race', 'sex',\n",
              "       'capital-gain', 'capital-loss', 'hours-per-week', 'country', 'salary'],\n",
              "      dtype='object')"
            ]
          },
          "execution_count": 9,
          "metadata": {},
          "output_type": "execute_result"
        }
      ],
      "source": [
        "#Columns of dataset\n",
        "df.columns"
      ]
    },
    {
      "cell_type": "code",
      "execution_count": 11,
      "metadata": {},
      "outputs": [
        {
          "data": {
            "text/plain": [
              "array(['Adm-clerical', 'Exec-managerial', 'Handlers-cleaners',\n",
              "       'Prof-specialty', 'Other-service', 'Sales', 'Craft-repair',\n",
              "       'Transport-moving', 'Farming-fishing', 'Machine-op-inspct',\n",
              "       'Tech-support', 'Protective-serv', 'Armed-Forces',\n",
              "       'Priv-house-serv'], dtype=object)"
            ]
          },
          "execution_count": 11,
          "metadata": {},
          "output_type": "execute_result"
        }
      ],
      "source": [
        "df['occupation'].unique()"
      ]
    },
    {
      "cell_type": "code",
      "execution_count": 12,
      "metadata": {
        "colab": {
          "base_uri": "https://localhost:8080/"
        },
        "id": "_GoqjmqgN_T9",
        "outputId": "892290b1-a29c-4708-fb64-ee28734b03ec"
      },
      "outputs": [
        {
          "name": "stdout",
          "output_type": "stream",
          "text": [
            "Index(['workclass', 'education', 'marital-status', 'occupation',\n",
            "       'relationship', 'race', 'sex', 'country', 'salary'],\n",
            "      dtype='object')\n",
            "\n",
            "Index(['age', 'fnlwgt', 'education-num', 'capital-gain', 'capital-loss',\n",
            "       'hours-per-week'],\n",
            "      dtype='object')\n"
          ]
        }
      ],
      "source": [
        "#Create categorical features and numerical features\n",
        "categorical_columns = df.select_dtypes(include='object').columns\n",
        "numerical_columns= df.select_dtypes(exclude='object').columns\n",
        "\n",
        "print(categorical_columns)\n",
        "print()\n",
        "print(numerical_columns)"
      ]
    },
    {
      "cell_type": "code",
      "execution_count": 13,
      "metadata": {
        "colab": {
          "base_uri": "https://localhost:8080/"
        },
        "id": "bVo1L6SlOtf2",
        "outputId": "4e07d612-5326-4f9e-cf30-d2d26c00d7bc"
      },
      "outputs": [
        {
          "name": "stdout",
          "output_type": "stream",
          "text": [
            "workclass \n",
            " ['State-gov' 'Self-emp-not-inc' 'Private' 'Federal-gov' 'Local-gov'\n",
            " 'Self-emp-inc' 'Without-pay' 'Never-worked']\n",
            "================================================================================\n",
            "education \n",
            " ['Bachelors' 'HS-grad' '11th' 'Masters' '9th' 'Some-college' 'Assoc-acdm'\n",
            " 'Assoc-voc' '7th-8th' 'Doctorate' 'Prof-school' '5th-6th' '10th'\n",
            " '1st-4th' 'Preschool' '12th']\n",
            "================================================================================\n",
            "marital-status \n",
            " ['Never-married' 'Married-civ-spouse' 'Divorced' 'Married-spouse-absent'\n",
            " 'Separated' 'Married-AF-spouse' 'Widowed']\n",
            "================================================================================\n",
            "occupation \n",
            " ['Adm-clerical' 'Exec-managerial' 'Handlers-cleaners' 'Prof-specialty'\n",
            " 'Other-service' 'Sales' 'Craft-repair' 'Transport-moving'\n",
            " 'Farming-fishing' 'Machine-op-inspct' 'Tech-support' 'Protective-serv'\n",
            " 'Armed-Forces' 'Priv-house-serv']\n",
            "================================================================================\n",
            "relationship \n",
            " ['Not-in-family' 'Husband' 'Wife' 'Own-child' 'Unmarried' 'Other-relative']\n",
            "================================================================================\n",
            "race \n",
            " ['White' 'Black' 'Asian-Pac-Islander' 'Amer-Indian-Eskimo' 'Other']\n",
            "================================================================================\n",
            "sex \n",
            " ['Male' 'Female']\n",
            "================================================================================\n",
            "country \n",
            " ['United-States' 'Cuba' 'Jamaica' 'India' 'Mexico' 'South' 'Puerto-Rico'\n",
            " 'Honduras' 'England' 'Canada' 'Germany' 'Iran' 'Philippines' 'Italy'\n",
            " 'Poland' 'Columbia' 'Cambodia' 'Thailand' 'Ecuador' 'Laos' 'Taiwan'\n",
            " 'Haiti' 'Portugal' 'Dominican-Republic' 'El-Salvador' 'France'\n",
            " 'Guatemala' 'China' 'Japan' 'Yugoslavia' 'Peru'\n",
            " 'Outlying-US(Guam-USVI-etc)' 'Scotland' 'Trinadad&Tobago' 'Greece'\n",
            " 'Nicaragua' 'Vietnam' 'Hong' 'Ireland' 'Hungary' 'Holand-Netherlands']\n",
            "================================================================================\n",
            "salary \n",
            " ['<=50K' '>50K']\n",
            "================================================================================\n"
          ]
        }
      ],
      "source": [
        "#Let's check unique values in each categorical columns\n",
        "for col in categorical_columns:\n",
        "  print(col,\"\\n\", df[col].unique())\n",
        "  print('='*80)"
      ]
    },
    {
      "cell_type": "code",
      "execution_count": 14,
      "metadata": {
        "id": "iHl887ULN_Yb"
      },
      "outputs": [],
      "source": [
        "#In workclass, occupation and country features has '?' value \n",
        "#So we will replace this value with  np.nan values."
      ]
    },
    {
      "cell_type": "code",
      "execution_count": 15,
      "metadata": {
        "id": "Fu6IJ14yN_cm"
      },
      "outputs": [],
      "source": [
        "df['workclass'] = df['workclass'].replace(\"?\", np.nan)\n",
        "df['occupation'] = df['occupation'].replace(\"?\", np.nan)\n",
        "df['country'] = df['country'].replace(\"?\", np.nan)"
      ]
    },
    {
      "cell_type": "code",
      "execution_count": 16,
      "metadata": {
        "id": "SFktmaWsN_gX"
      },
      "outputs": [],
      "source": [
        "#Here we will drop education and fnlwgt columns from dataset\n",
        "#Education column has already encoded as education num column in dataset"
      ]
    },
    {
      "cell_type": "code",
      "execution_count": 17,
      "metadata": {
        "id": "oQcH8AuEN_kj"
      },
      "outputs": [],
      "source": [
        "df.drop(columns=['education', 'fnlwgt'], inplace = True, axis = 1)"
      ]
    },
    {
      "cell_type": "code",
      "execution_count": 18,
      "metadata": {
        "colab": {
          "base_uri": "https://localhost:8080/"
        },
        "id": "d5SDVNDjN_oY",
        "outputId": "06354f0c-51b6-4917-8767-1736b9176f90"
      },
      "outputs": [
        {
          "data": {
            "text/plain": [
              "Index(['age', 'workclass', 'education-num', 'marital-status', 'occupation',\n",
              "       'relationship', 'race', 'sex', 'capital-gain', 'capital-loss',\n",
              "       'hours-per-week', 'country', 'salary'],\n",
              "      dtype='object')"
            ]
          },
          "execution_count": 18,
          "metadata": {},
          "output_type": "execute_result"
        }
      ],
      "source": [
        "df.columns"
      ]
    },
    {
      "cell_type": "code",
      "execution_count": 19,
      "metadata": {
        "colab": {
          "base_uri": "https://localhost:8080/"
        },
        "id": "cWuj5uBaN_r-",
        "outputId": "5a35f574-065e-4e71-cfa5-ec372c58d5da"
      },
      "outputs": [
        {
          "data": {
            "text/plain": [
              "(32537, 13)"
            ]
          },
          "execution_count": 19,
          "metadata": {},
          "output_type": "execute_result"
        }
      ],
      "source": [
        "df.shape"
      ]
    },
    {
      "cell_type": "code",
      "execution_count": 20,
      "metadata": {
        "colab": {
          "base_uri": "https://localhost:8080/"
        },
        "id": "r-3avyxzkDG5",
        "outputId": "b56031c1-8033-470b-9eb6-2581fbb9b54d"
      },
      "outputs": [
        {
          "data": {
            "text/plain": [
              "salary\n",
              "<=50K    0.759074\n",
              ">50K     0.240926\n",
              "Name: proportion, dtype: float64"
            ]
          },
          "execution_count": 20,
          "metadata": {},
          "output_type": "execute_result"
        }
      ],
      "source": [
        "df.salary.value_counts(normalize= True)"
      ]
    },
    {
      "cell_type": "code",
      "execution_count": 21,
      "metadata": {
        "id": "ghxD0tqGN_0G"
      },
      "outputs": [],
      "source": [
        "df['salary'] = df['salary'].map({'<=50K':0, '>50K':1})"
      ]
    },
    {
      "cell_type": "code",
      "execution_count": 22,
      "metadata": {
        "colab": {
          "base_uri": "https://localhost:8080/",
          "height": 354
        },
        "id": "JSGjxDzFN_3u",
        "outputId": "cc6509d4-91f0-45c8-c7ea-42bdd5c8c4f9"
      },
      "outputs": [
        {
          "data": {
            "text/html": [
              "<div>\n",
              "<style scoped>\n",
              "    .dataframe tbody tr th:only-of-type {\n",
              "        vertical-align: middle;\n",
              "    }\n",
              "\n",
              "    .dataframe tbody tr th {\n",
              "        vertical-align: top;\n",
              "    }\n",
              "\n",
              "    .dataframe thead th {\n",
              "        text-align: right;\n",
              "    }\n",
              "</style>\n",
              "<table border=\"1\" class=\"dataframe\">\n",
              "  <thead>\n",
              "    <tr style=\"text-align: right;\">\n",
              "      <th></th>\n",
              "      <th>age</th>\n",
              "      <th>workclass</th>\n",
              "      <th>education-num</th>\n",
              "      <th>marital-status</th>\n",
              "      <th>occupation</th>\n",
              "      <th>relationship</th>\n",
              "      <th>race</th>\n",
              "      <th>sex</th>\n",
              "      <th>capital-gain</th>\n",
              "      <th>capital-loss</th>\n",
              "      <th>hours-per-week</th>\n",
              "      <th>country</th>\n",
              "      <th>salary</th>\n",
              "    </tr>\n",
              "  </thead>\n",
              "  <tbody>\n",
              "    <tr>\n",
              "      <th>0</th>\n",
              "      <td>39</td>\n",
              "      <td>State-gov</td>\n",
              "      <td>13</td>\n",
              "      <td>Never-married</td>\n",
              "      <td>Adm-clerical</td>\n",
              "      <td>Not-in-family</td>\n",
              "      <td>White</td>\n",
              "      <td>Male</td>\n",
              "      <td>2174</td>\n",
              "      <td>0</td>\n",
              "      <td>40</td>\n",
              "      <td>United-States</td>\n",
              "      <td>0</td>\n",
              "    </tr>\n",
              "    <tr>\n",
              "      <th>1</th>\n",
              "      <td>50</td>\n",
              "      <td>Self-emp-not-inc</td>\n",
              "      <td>13</td>\n",
              "      <td>Married-civ-spouse</td>\n",
              "      <td>Exec-managerial</td>\n",
              "      <td>Husband</td>\n",
              "      <td>White</td>\n",
              "      <td>Male</td>\n",
              "      <td>0</td>\n",
              "      <td>0</td>\n",
              "      <td>13</td>\n",
              "      <td>United-States</td>\n",
              "      <td>0</td>\n",
              "    </tr>\n",
              "    <tr>\n",
              "      <th>2</th>\n",
              "      <td>38</td>\n",
              "      <td>Private</td>\n",
              "      <td>9</td>\n",
              "      <td>Divorced</td>\n",
              "      <td>Handlers-cleaners</td>\n",
              "      <td>Not-in-family</td>\n",
              "      <td>White</td>\n",
              "      <td>Male</td>\n",
              "      <td>0</td>\n",
              "      <td>0</td>\n",
              "      <td>40</td>\n",
              "      <td>United-States</td>\n",
              "      <td>0</td>\n",
              "    </tr>\n",
              "    <tr>\n",
              "      <th>3</th>\n",
              "      <td>53</td>\n",
              "      <td>Private</td>\n",
              "      <td>7</td>\n",
              "      <td>Married-civ-spouse</td>\n",
              "      <td>Handlers-cleaners</td>\n",
              "      <td>Husband</td>\n",
              "      <td>Black</td>\n",
              "      <td>Male</td>\n",
              "      <td>0</td>\n",
              "      <td>0</td>\n",
              "      <td>40</td>\n",
              "      <td>United-States</td>\n",
              "      <td>0</td>\n",
              "    </tr>\n",
              "    <tr>\n",
              "      <th>4</th>\n",
              "      <td>28</td>\n",
              "      <td>Private</td>\n",
              "      <td>13</td>\n",
              "      <td>Married-civ-spouse</td>\n",
              "      <td>Prof-specialty</td>\n",
              "      <td>Wife</td>\n",
              "      <td>Black</td>\n",
              "      <td>Female</td>\n",
              "      <td>0</td>\n",
              "      <td>0</td>\n",
              "      <td>40</td>\n",
              "      <td>Cuba</td>\n",
              "      <td>0</td>\n",
              "    </tr>\n",
              "  </tbody>\n",
              "</table>\n",
              "</div>"
            ],
            "text/plain": [
              "   age         workclass  education-num      marital-status  \\\n",
              "0   39         State-gov             13       Never-married   \n",
              "1   50  Self-emp-not-inc             13  Married-civ-spouse   \n",
              "2   38           Private              9            Divorced   \n",
              "3   53           Private              7  Married-civ-spouse   \n",
              "4   28           Private             13  Married-civ-spouse   \n",
              "\n",
              "          occupation   relationship   race     sex  capital-gain  \\\n",
              "0       Adm-clerical  Not-in-family  White    Male          2174   \n",
              "1    Exec-managerial        Husband  White    Male             0   \n",
              "2  Handlers-cleaners  Not-in-family  White    Male             0   \n",
              "3  Handlers-cleaners        Husband  Black    Male             0   \n",
              "4     Prof-specialty           Wife  Black  Female             0   \n",
              "\n",
              "   capital-loss  hours-per-week        country  salary  \n",
              "0             0              40  United-States       0  \n",
              "1             0              13  United-States       0  \n",
              "2             0              40  United-States       0  \n",
              "3             0              40  United-States       0  \n",
              "4             0              40           Cuba       0  "
            ]
          },
          "execution_count": 22,
          "metadata": {},
          "output_type": "execute_result"
        }
      ],
      "source": [
        "df.head()"
      ]
    },
    {
      "cell_type": "code",
      "execution_count": 23,
      "metadata": {
        "id": "s4shBgh6N_8q"
      },
      "outputs": [],
      "source": [
        "#Independent and Dependent Variable\n",
        "X= df.iloc[:,:-1]\n",
        "y= df.iloc[:,-1]"
      ]
    },
    {
      "cell_type": "code",
      "execution_count": 24,
      "metadata": {
        "colab": {
          "base_uri": "https://localhost:8080/",
          "height": 354
        },
        "id": "o03441smOAA5",
        "outputId": "699db7fa-3e41-4835-a66f-91d2c7596ced"
      },
      "outputs": [
        {
          "data": {
            "text/html": [
              "<div>\n",
              "<style scoped>\n",
              "    .dataframe tbody tr th:only-of-type {\n",
              "        vertical-align: middle;\n",
              "    }\n",
              "\n",
              "    .dataframe tbody tr th {\n",
              "        vertical-align: top;\n",
              "    }\n",
              "\n",
              "    .dataframe thead th {\n",
              "        text-align: right;\n",
              "    }\n",
              "</style>\n",
              "<table border=\"1\" class=\"dataframe\">\n",
              "  <thead>\n",
              "    <tr style=\"text-align: right;\">\n",
              "      <th></th>\n",
              "      <th>age</th>\n",
              "      <th>workclass</th>\n",
              "      <th>education-num</th>\n",
              "      <th>marital-status</th>\n",
              "      <th>occupation</th>\n",
              "      <th>relationship</th>\n",
              "      <th>race</th>\n",
              "      <th>sex</th>\n",
              "      <th>capital-gain</th>\n",
              "      <th>capital-loss</th>\n",
              "      <th>hours-per-week</th>\n",
              "      <th>country</th>\n",
              "    </tr>\n",
              "  </thead>\n",
              "  <tbody>\n",
              "    <tr>\n",
              "      <th>0</th>\n",
              "      <td>39</td>\n",
              "      <td>State-gov</td>\n",
              "      <td>13</td>\n",
              "      <td>Never-married</td>\n",
              "      <td>Adm-clerical</td>\n",
              "      <td>Not-in-family</td>\n",
              "      <td>White</td>\n",
              "      <td>Male</td>\n",
              "      <td>2174</td>\n",
              "      <td>0</td>\n",
              "      <td>40</td>\n",
              "      <td>United-States</td>\n",
              "    </tr>\n",
              "    <tr>\n",
              "      <th>1</th>\n",
              "      <td>50</td>\n",
              "      <td>Self-emp-not-inc</td>\n",
              "      <td>13</td>\n",
              "      <td>Married-civ-spouse</td>\n",
              "      <td>Exec-managerial</td>\n",
              "      <td>Husband</td>\n",
              "      <td>White</td>\n",
              "      <td>Male</td>\n",
              "      <td>0</td>\n",
              "      <td>0</td>\n",
              "      <td>13</td>\n",
              "      <td>United-States</td>\n",
              "    </tr>\n",
              "    <tr>\n",
              "      <th>2</th>\n",
              "      <td>38</td>\n",
              "      <td>Private</td>\n",
              "      <td>9</td>\n",
              "      <td>Divorced</td>\n",
              "      <td>Handlers-cleaners</td>\n",
              "      <td>Not-in-family</td>\n",
              "      <td>White</td>\n",
              "      <td>Male</td>\n",
              "      <td>0</td>\n",
              "      <td>0</td>\n",
              "      <td>40</td>\n",
              "      <td>United-States</td>\n",
              "    </tr>\n",
              "    <tr>\n",
              "      <th>3</th>\n",
              "      <td>53</td>\n",
              "      <td>Private</td>\n",
              "      <td>7</td>\n",
              "      <td>Married-civ-spouse</td>\n",
              "      <td>Handlers-cleaners</td>\n",
              "      <td>Husband</td>\n",
              "      <td>Black</td>\n",
              "      <td>Male</td>\n",
              "      <td>0</td>\n",
              "      <td>0</td>\n",
              "      <td>40</td>\n",
              "      <td>United-States</td>\n",
              "    </tr>\n",
              "    <tr>\n",
              "      <th>4</th>\n",
              "      <td>28</td>\n",
              "      <td>Private</td>\n",
              "      <td>13</td>\n",
              "      <td>Married-civ-spouse</td>\n",
              "      <td>Prof-specialty</td>\n",
              "      <td>Wife</td>\n",
              "      <td>Black</td>\n",
              "      <td>Female</td>\n",
              "      <td>0</td>\n",
              "      <td>0</td>\n",
              "      <td>40</td>\n",
              "      <td>Cuba</td>\n",
              "    </tr>\n",
              "  </tbody>\n",
              "</table>\n",
              "</div>"
            ],
            "text/plain": [
              "   age         workclass  education-num      marital-status  \\\n",
              "0   39         State-gov             13       Never-married   \n",
              "1   50  Self-emp-not-inc             13  Married-civ-spouse   \n",
              "2   38           Private              9            Divorced   \n",
              "3   53           Private              7  Married-civ-spouse   \n",
              "4   28           Private             13  Married-civ-spouse   \n",
              "\n",
              "          occupation   relationship   race     sex  capital-gain  \\\n",
              "0       Adm-clerical  Not-in-family  White    Male          2174   \n",
              "1    Exec-managerial        Husband  White    Male             0   \n",
              "2  Handlers-cleaners  Not-in-family  White    Male             0   \n",
              "3  Handlers-cleaners        Husband  Black    Male             0   \n",
              "4     Prof-specialty           Wife  Black  Female             0   \n",
              "\n",
              "   capital-loss  hours-per-week        country  \n",
              "0             0              40  United-States  \n",
              "1             0              13  United-States  \n",
              "2             0              40  United-States  \n",
              "3             0              40  United-States  \n",
              "4             0              40           Cuba  "
            ]
          },
          "execution_count": 24,
          "metadata": {},
          "output_type": "execute_result"
        }
      ],
      "source": [
        "X.head()"
      ]
    },
    {
      "cell_type": "code",
      "execution_count": 25,
      "metadata": {
        "colab": {
          "base_uri": "https://localhost:8080/"
        },
        "id": "blBtnJogOAEb",
        "outputId": "8781eece-04c2-44d7-8e3a-a6ee95eafa2d"
      },
      "outputs": [
        {
          "data": {
            "text/plain": [
              "0    0\n",
              "1    0\n",
              "2    0\n",
              "3    0\n",
              "4    0\n",
              "Name: salary, dtype: int64"
            ]
          },
          "execution_count": 25,
          "metadata": {},
          "output_type": "execute_result"
        }
      ],
      "source": [
        "y.head()"
      ]
    },
    {
      "cell_type": "code",
      "execution_count": 26,
      "metadata": {
        "colab": {
          "base_uri": "https://localhost:8080/"
        },
        "id": "cVlrUGyyOAIb",
        "outputId": "f6c50daa-4fa9-4361-d63b-eee37ff5ae36"
      },
      "outputs": [
        {
          "data": {
            "text/plain": [
              "((32537, 12), (32537,))"
            ]
          },
          "execution_count": 26,
          "metadata": {},
          "output_type": "execute_result"
        }
      ],
      "source": [
        "X.shape, y.shape"
      ]
    },
    {
      "cell_type": "code",
      "execution_count": 27,
      "metadata": {
        "id": "_5fIrRCdF_kF"
      },
      "outputs": [],
      "source": [
        "categorical_columns = X.select_dtypes(include='object').columns\n",
        "numerical_columns= X.select_dtypes(exclude='object').columns"
      ]
    },
    {
      "cell_type": "code",
      "execution_count": 28,
      "metadata": {
        "colab": {
          "base_uri": "https://localhost:8080/"
        },
        "id": "aaOagOx7OAMO",
        "outputId": "1623c28f-d695-458b-cf88-1d9318218a97"
      },
      "outputs": [
        {
          "data": {
            "text/plain": [
              "Index(['workclass', 'marital-status', 'occupation', 'relationship', 'race',\n",
              "       'sex', 'country'],\n",
              "      dtype='object')"
            ]
          },
          "execution_count": 28,
          "metadata": {},
          "output_type": "execute_result"
        }
      ],
      "source": [
        "categorical_columns"
      ]
    },
    {
      "cell_type": "code",
      "execution_count": 29,
      "metadata": {
        "colab": {
          "base_uri": "https://localhost:8080/"
        },
        "id": "_YCUOHQ4X53s",
        "outputId": "c76c7c58-3302-4348-b3f6-4e2de4985196"
      },
      "outputs": [
        {
          "data": {
            "text/plain": [
              "Index(['age', 'education-num', 'capital-gain', 'capital-loss',\n",
              "       'hours-per-week'],\n",
              "      dtype='object')"
            ]
          },
          "execution_count": 29,
          "metadata": {},
          "output_type": "execute_result"
        }
      ],
      "source": [
        "numerical_columns"
      ]
    },
    {
      "attachments": {},
      "cell_type": "markdown",
      "metadata": {
        "id": "_5odqI6qYCVM"
      },
      "source": [
        "### Model Building"
      ]
    },
    {
      "cell_type": "code",
      "execution_count": 30,
      "metadata": {
        "id": "cVDTFMURX563"
      },
      "outputs": [],
      "source": [
        "from sklearn.impute import SimpleImputer #Handling missing values \n",
        "from sklearn.preprocessing import StandardScaler #Feature scaling\n",
        "from sklearn.preprocessing import OneHotEncoder #Feature Encoding \n",
        "from sklearn.pipeline import Pipeline \n",
        "from sklearn.compose import ColumnTransformer"
      ]
    },
    {
      "cell_type": "code",
      "execution_count": 31,
      "metadata": {
        "id": "TmhN7BAcX5-w"
      },
      "outputs": [],
      "source": [
        "#Numerical pipeline\n",
        "num_pipeline= Pipeline(\n",
        "    steps=[\n",
        "        ('imputer',SimpleImputer(strategy= 'median')),\n",
        "        ('scaler', StandardScaler())\n",
        "    ]\n",
        ")\n",
        "\n",
        "#categorical pipeline\n",
        "cat_pipeline= Pipeline(\n",
        "    steps=[\n",
        "        ('imputer', SimpleImputer(strategy='most_frequent')),\n",
        "        ('one_hot_encoder', OneHotEncoder(handle_unknown= 'ignore',sparse_output=False)),\n",
        "        ('scaler', StandardScaler())\n",
        "    ]\n",
        ")\n",
        "\n",
        "preprocessor= ColumnTransformer([\n",
        "    ('num_pipeline', num_pipeline, numerical_columns),\n",
        "    ('cat_pipeline', cat_pipeline, categorical_columns)\n",
        "])\n",
        "\n"
      ]
    },
    {
      "cell_type": "code",
      "execution_count": 32,
      "metadata": {
        "id": "xZF9ltAXX6CF"
      },
      "outputs": [],
      "source": [
        "#Train-test split\n",
        "from sklearn.model_selection import train_test_split\n",
        "x_train, x_test, y_train, y_test = train_test_split(X,y, test_size= 0.3, random_state= 42)"
      ]
    },
    {
      "cell_type": "code",
      "execution_count": 33,
      "metadata": {
        "id": "NCg12En8X6GH"
      },
      "outputs": [],
      "source": [
        "x_train = pd.DataFrame(preprocessor.fit_transform(x_train), columns= preprocessor.get_feature_names_out())\n",
        "\n",
        "x_test = pd.DataFrame(preprocessor.transform(x_test), columns= preprocessor.get_feature_names_out())"
      ]
    },
    {
      "cell_type": "code",
      "execution_count": 34,
      "metadata": {
        "colab": {
          "base_uri": "https://localhost:8080/"
        },
        "id": "W4LWxxuUX6JX",
        "outputId": "c85ad902-11d1-408c-c353-084cc19b9ec0"
      },
      "outputs": [
        {
          "data": {
            "text/plain": [
              "(22775, 88)"
            ]
          },
          "execution_count": 34,
          "metadata": {},
          "output_type": "execute_result"
        }
      ],
      "source": [
        "x_train.shape"
      ]
    },
    {
      "cell_type": "code",
      "execution_count": 35,
      "metadata": {
        "colab": {
          "base_uri": "https://localhost:8080/",
          "height": 317
        },
        "id": "akBKowfCX6NH",
        "outputId": "bc3636c4-9aaa-442a-cf1e-33de62f8ddd5"
      },
      "outputs": [
        {
          "data": {
            "text/html": [
              "<div>\n",
              "<style scoped>\n",
              "    .dataframe tbody tr th:only-of-type {\n",
              "        vertical-align: middle;\n",
              "    }\n",
              "\n",
              "    .dataframe tbody tr th {\n",
              "        vertical-align: top;\n",
              "    }\n",
              "\n",
              "    .dataframe thead th {\n",
              "        text-align: right;\n",
              "    }\n",
              "</style>\n",
              "<table border=\"1\" class=\"dataframe\">\n",
              "  <thead>\n",
              "    <tr style=\"text-align: right;\">\n",
              "      <th></th>\n",
              "      <th>num_pipeline__age</th>\n",
              "      <th>num_pipeline__education-num</th>\n",
              "      <th>num_pipeline__capital-gain</th>\n",
              "      <th>num_pipeline__capital-loss</th>\n",
              "      <th>num_pipeline__hours-per-week</th>\n",
              "      <th>cat_pipeline__workclass_Federal-gov</th>\n",
              "      <th>cat_pipeline__workclass_Local-gov</th>\n",
              "      <th>cat_pipeline__workclass_Never-worked</th>\n",
              "      <th>cat_pipeline__workclass_Private</th>\n",
              "      <th>cat_pipeline__workclass_Self-emp-inc</th>\n",
              "      <th>...</th>\n",
              "      <th>cat_pipeline__country_Portugal</th>\n",
              "      <th>cat_pipeline__country_Puerto-Rico</th>\n",
              "      <th>cat_pipeline__country_Scotland</th>\n",
              "      <th>cat_pipeline__country_South</th>\n",
              "      <th>cat_pipeline__country_Taiwan</th>\n",
              "      <th>cat_pipeline__country_Thailand</th>\n",
              "      <th>cat_pipeline__country_Trinadad&amp;Tobago</th>\n",
              "      <th>cat_pipeline__country_United-States</th>\n",
              "      <th>cat_pipeline__country_Vietnam</th>\n",
              "      <th>cat_pipeline__country_Yugoslavia</th>\n",
              "    </tr>\n",
              "  </thead>\n",
              "  <tbody>\n",
              "    <tr>\n",
              "      <th>0</th>\n",
              "      <td>0.693443</td>\n",
              "      <td>-0.033365</td>\n",
              "      <td>0.917418</td>\n",
              "      <td>-0.219029</td>\n",
              "      <td>-0.033058</td>\n",
              "      <td>-0.174097</td>\n",
              "      <td>-0.259894</td>\n",
              "      <td>-0.013254</td>\n",
              "      <td>-1.752520</td>\n",
              "      <td>-0.190925</td>\n",
              "      <td>...</td>\n",
              "      <td>-0.03315</td>\n",
              "      <td>-0.061206</td>\n",
              "      <td>-0.018745</td>\n",
              "      <td>-0.049201</td>\n",
              "      <td>-0.041945</td>\n",
              "      <td>-0.023898</td>\n",
              "      <td>-0.023898</td>\n",
              "      <td>0.310528</td>\n",
              "      <td>-0.045475</td>\n",
              "      <td>-0.021982</td>\n",
              "    </tr>\n",
              "    <tr>\n",
              "      <th>1</th>\n",
              "      <td>-0.555208</td>\n",
              "      <td>1.135080</td>\n",
              "      <td>-0.142880</td>\n",
              "      <td>-0.219029</td>\n",
              "      <td>-0.033058</td>\n",
              "      <td>-0.174097</td>\n",
              "      <td>-0.259894</td>\n",
              "      <td>-0.013254</td>\n",
              "      <td>0.570607</td>\n",
              "      <td>-0.190925</td>\n",
              "      <td>...</td>\n",
              "      <td>-0.03315</td>\n",
              "      <td>-0.061206</td>\n",
              "      <td>-0.018745</td>\n",
              "      <td>-0.049201</td>\n",
              "      <td>-0.041945</td>\n",
              "      <td>-0.023898</td>\n",
              "      <td>-0.023898</td>\n",
              "      <td>0.310528</td>\n",
              "      <td>-0.045475</td>\n",
              "      <td>-0.021982</td>\n",
              "    </tr>\n",
              "    <tr>\n",
              "      <th>2</th>\n",
              "      <td>0.840343</td>\n",
              "      <td>2.303525</td>\n",
              "      <td>1.929169</td>\n",
              "      <td>-0.219029</td>\n",
              "      <td>0.777388</td>\n",
              "      <td>-0.174097</td>\n",
              "      <td>-0.259894</td>\n",
              "      <td>-0.013254</td>\n",
              "      <td>0.570607</td>\n",
              "      <td>-0.190925</td>\n",
              "      <td>...</td>\n",
              "      <td>-0.03315</td>\n",
              "      <td>-0.061206</td>\n",
              "      <td>-0.018745</td>\n",
              "      <td>-0.049201</td>\n",
              "      <td>-0.041945</td>\n",
              "      <td>-0.023898</td>\n",
              "      <td>-0.023898</td>\n",
              "      <td>0.310528</td>\n",
              "      <td>-0.045475</td>\n",
              "      <td>-0.021982</td>\n",
              "    </tr>\n",
              "    <tr>\n",
              "      <th>3</th>\n",
              "      <td>-1.216259</td>\n",
              "      <td>-0.422846</td>\n",
              "      <td>-0.142880</td>\n",
              "      <td>-0.219029</td>\n",
              "      <td>0.372165</td>\n",
              "      <td>-0.174097</td>\n",
              "      <td>-0.259894</td>\n",
              "      <td>-0.013254</td>\n",
              "      <td>0.570607</td>\n",
              "      <td>-0.190925</td>\n",
              "      <td>...</td>\n",
              "      <td>-0.03315</td>\n",
              "      <td>-0.061206</td>\n",
              "      <td>-0.018745</td>\n",
              "      <td>-0.049201</td>\n",
              "      <td>-0.041945</td>\n",
              "      <td>-0.023898</td>\n",
              "      <td>-0.023898</td>\n",
              "      <td>0.310528</td>\n",
              "      <td>-0.045475</td>\n",
              "      <td>-0.021982</td>\n",
              "    </tr>\n",
              "    <tr>\n",
              "      <th>4</th>\n",
              "      <td>-0.775558</td>\n",
              "      <td>-0.422846</td>\n",
              "      <td>-0.142880</td>\n",
              "      <td>-0.219029</td>\n",
              "      <td>0.372165</td>\n",
              "      <td>-0.174097</td>\n",
              "      <td>-0.259894</td>\n",
              "      <td>-0.013254</td>\n",
              "      <td>0.570607</td>\n",
              "      <td>-0.190925</td>\n",
              "      <td>...</td>\n",
              "      <td>-0.03315</td>\n",
              "      <td>-0.061206</td>\n",
              "      <td>-0.018745</td>\n",
              "      <td>-0.049201</td>\n",
              "      <td>-0.041945</td>\n",
              "      <td>-0.023898</td>\n",
              "      <td>-0.023898</td>\n",
              "      <td>0.310528</td>\n",
              "      <td>-0.045475</td>\n",
              "      <td>-0.021982</td>\n",
              "    </tr>\n",
              "  </tbody>\n",
              "</table>\n",
              "<p>5 rows × 88 columns</p>\n",
              "</div>"
            ],
            "text/plain": [
              "   num_pipeline__age  num_pipeline__education-num  num_pipeline__capital-gain  \\\n",
              "0           0.693443                    -0.033365                    0.917418   \n",
              "1          -0.555208                     1.135080                   -0.142880   \n",
              "2           0.840343                     2.303525                    1.929169   \n",
              "3          -1.216259                    -0.422846                   -0.142880   \n",
              "4          -0.775558                    -0.422846                   -0.142880   \n",
              "\n",
              "   num_pipeline__capital-loss  num_pipeline__hours-per-week  \\\n",
              "0                   -0.219029                     -0.033058   \n",
              "1                   -0.219029                     -0.033058   \n",
              "2                   -0.219029                      0.777388   \n",
              "3                   -0.219029                      0.372165   \n",
              "4                   -0.219029                      0.372165   \n",
              "\n",
              "   cat_pipeline__workclass_Federal-gov  cat_pipeline__workclass_Local-gov  \\\n",
              "0                            -0.174097                          -0.259894   \n",
              "1                            -0.174097                          -0.259894   \n",
              "2                            -0.174097                          -0.259894   \n",
              "3                            -0.174097                          -0.259894   \n",
              "4                            -0.174097                          -0.259894   \n",
              "\n",
              "   cat_pipeline__workclass_Never-worked  cat_pipeline__workclass_Private  \\\n",
              "0                             -0.013254                        -1.752520   \n",
              "1                             -0.013254                         0.570607   \n",
              "2                             -0.013254                         0.570607   \n",
              "3                             -0.013254                         0.570607   \n",
              "4                             -0.013254                         0.570607   \n",
              "\n",
              "   cat_pipeline__workclass_Self-emp-inc  ...  cat_pipeline__country_Portugal  \\\n",
              "0                             -0.190925  ...                        -0.03315   \n",
              "1                             -0.190925  ...                        -0.03315   \n",
              "2                             -0.190925  ...                        -0.03315   \n",
              "3                             -0.190925  ...                        -0.03315   \n",
              "4                             -0.190925  ...                        -0.03315   \n",
              "\n",
              "   cat_pipeline__country_Puerto-Rico  cat_pipeline__country_Scotland  \\\n",
              "0                          -0.061206                       -0.018745   \n",
              "1                          -0.061206                       -0.018745   \n",
              "2                          -0.061206                       -0.018745   \n",
              "3                          -0.061206                       -0.018745   \n",
              "4                          -0.061206                       -0.018745   \n",
              "\n",
              "   cat_pipeline__country_South  cat_pipeline__country_Taiwan  \\\n",
              "0                    -0.049201                     -0.041945   \n",
              "1                    -0.049201                     -0.041945   \n",
              "2                    -0.049201                     -0.041945   \n",
              "3                    -0.049201                     -0.041945   \n",
              "4                    -0.049201                     -0.041945   \n",
              "\n",
              "   cat_pipeline__country_Thailand  cat_pipeline__country_Trinadad&Tobago  \\\n",
              "0                       -0.023898                              -0.023898   \n",
              "1                       -0.023898                              -0.023898   \n",
              "2                       -0.023898                              -0.023898   \n",
              "3                       -0.023898                              -0.023898   \n",
              "4                       -0.023898                              -0.023898   \n",
              "\n",
              "   cat_pipeline__country_United-States  cat_pipeline__country_Vietnam  \\\n",
              "0                             0.310528                      -0.045475   \n",
              "1                             0.310528                      -0.045475   \n",
              "2                             0.310528                      -0.045475   \n",
              "3                             0.310528                      -0.045475   \n",
              "4                             0.310528                      -0.045475   \n",
              "\n",
              "   cat_pipeline__country_Yugoslavia  \n",
              "0                         -0.021982  \n",
              "1                         -0.021982  \n",
              "2                         -0.021982  \n",
              "3                         -0.021982  \n",
              "4                         -0.021982  \n",
              "\n",
              "[5 rows x 88 columns]"
            ]
          },
          "execution_count": 35,
          "metadata": {},
          "output_type": "execute_result"
        }
      ],
      "source": [
        "x_train.head()"
      ]
    },
    {
      "cell_type": "code",
      "execution_count": 36,
      "metadata": {
        "colab": {
          "base_uri": "https://localhost:8080/",
          "height": 317
        },
        "id": "CpqJRz-fX6RO",
        "outputId": "205f7fb6-3142-4a84-ee3f-3f1d970cf198"
      },
      "outputs": [
        {
          "data": {
            "text/html": [
              "<div>\n",
              "<style scoped>\n",
              "    .dataframe tbody tr th:only-of-type {\n",
              "        vertical-align: middle;\n",
              "    }\n",
              "\n",
              "    .dataframe tbody tr th {\n",
              "        vertical-align: top;\n",
              "    }\n",
              "\n",
              "    .dataframe thead th {\n",
              "        text-align: right;\n",
              "    }\n",
              "</style>\n",
              "<table border=\"1\" class=\"dataframe\">\n",
              "  <thead>\n",
              "    <tr style=\"text-align: right;\">\n",
              "      <th></th>\n",
              "      <th>num_pipeline__age</th>\n",
              "      <th>num_pipeline__education-num</th>\n",
              "      <th>num_pipeline__capital-gain</th>\n",
              "      <th>num_pipeline__capital-loss</th>\n",
              "      <th>num_pipeline__hours-per-week</th>\n",
              "      <th>cat_pipeline__workclass_Federal-gov</th>\n",
              "      <th>cat_pipeline__workclass_Local-gov</th>\n",
              "      <th>cat_pipeline__workclass_Never-worked</th>\n",
              "      <th>cat_pipeline__workclass_Private</th>\n",
              "      <th>cat_pipeline__workclass_Self-emp-inc</th>\n",
              "      <th>...</th>\n",
              "      <th>cat_pipeline__country_Portugal</th>\n",
              "      <th>cat_pipeline__country_Puerto-Rico</th>\n",
              "      <th>cat_pipeline__country_Scotland</th>\n",
              "      <th>cat_pipeline__country_South</th>\n",
              "      <th>cat_pipeline__country_Taiwan</th>\n",
              "      <th>cat_pipeline__country_Thailand</th>\n",
              "      <th>cat_pipeline__country_Trinadad&amp;Tobago</th>\n",
              "      <th>cat_pipeline__country_United-States</th>\n",
              "      <th>cat_pipeline__country_Vietnam</th>\n",
              "      <th>cat_pipeline__country_Yugoslavia</th>\n",
              "    </tr>\n",
              "  </thead>\n",
              "  <tbody>\n",
              "    <tr>\n",
              "      <th>0</th>\n",
              "      <td>-0.555208</td>\n",
              "      <td>0.356117</td>\n",
              "      <td>-0.14288</td>\n",
              "      <td>-0.219029</td>\n",
              "      <td>-0.033058</td>\n",
              "      <td>-0.174097</td>\n",
              "      <td>-0.259894</td>\n",
              "      <td>-0.013254</td>\n",
              "      <td>-1.752520</td>\n",
              "      <td>-0.190925</td>\n",
              "      <td>...</td>\n",
              "      <td>-0.03315</td>\n",
              "      <td>-0.061206</td>\n",
              "      <td>-0.018745</td>\n",
              "      <td>-0.049201</td>\n",
              "      <td>-0.041945</td>\n",
              "      <td>-0.023898</td>\n",
              "      <td>-0.023898</td>\n",
              "      <td>0.310528</td>\n",
              "      <td>-0.045475</td>\n",
              "      <td>-0.021982</td>\n",
              "    </tr>\n",
              "    <tr>\n",
              "      <th>1</th>\n",
              "      <td>-1.069359</td>\n",
              "      <td>1.135080</td>\n",
              "      <td>-0.14288</td>\n",
              "      <td>-0.219029</td>\n",
              "      <td>-0.033058</td>\n",
              "      <td>5.743913</td>\n",
              "      <td>-0.259894</td>\n",
              "      <td>-0.013254</td>\n",
              "      <td>-1.752520</td>\n",
              "      <td>-0.190925</td>\n",
              "      <td>...</td>\n",
              "      <td>-0.03315</td>\n",
              "      <td>-0.061206</td>\n",
              "      <td>-0.018745</td>\n",
              "      <td>-0.049201</td>\n",
              "      <td>-0.041945</td>\n",
              "      <td>-0.023898</td>\n",
              "      <td>-0.023898</td>\n",
              "      <td>0.310528</td>\n",
              "      <td>-0.045475</td>\n",
              "      <td>-0.021982</td>\n",
              "    </tr>\n",
              "    <tr>\n",
              "      <th>2</th>\n",
              "      <td>1.574844</td>\n",
              "      <td>-0.033365</td>\n",
              "      <td>-0.14288</td>\n",
              "      <td>-0.219029</td>\n",
              "      <td>1.587834</td>\n",
              "      <td>-0.174097</td>\n",
              "      <td>3.847726</td>\n",
              "      <td>-0.013254</td>\n",
              "      <td>-1.752520</td>\n",
              "      <td>-0.190925</td>\n",
              "      <td>...</td>\n",
              "      <td>-0.03315</td>\n",
              "      <td>-0.061206</td>\n",
              "      <td>-0.018745</td>\n",
              "      <td>-0.049201</td>\n",
              "      <td>-0.041945</td>\n",
              "      <td>-0.023898</td>\n",
              "      <td>-0.023898</td>\n",
              "      <td>-3.220317</td>\n",
              "      <td>-0.045475</td>\n",
              "      <td>-0.021982</td>\n",
              "    </tr>\n",
              "    <tr>\n",
              "      <th>3</th>\n",
              "      <td>-0.555208</td>\n",
              "      <td>-0.033365</td>\n",
              "      <td>-0.14288</td>\n",
              "      <td>-0.219029</td>\n",
              "      <td>-0.033058</td>\n",
              "      <td>-0.174097</td>\n",
              "      <td>-0.259894</td>\n",
              "      <td>-0.013254</td>\n",
              "      <td>0.570607</td>\n",
              "      <td>-0.190925</td>\n",
              "      <td>...</td>\n",
              "      <td>-0.03315</td>\n",
              "      <td>-0.061206</td>\n",
              "      <td>-0.018745</td>\n",
              "      <td>-0.049201</td>\n",
              "      <td>-0.041945</td>\n",
              "      <td>-0.023898</td>\n",
              "      <td>-0.023898</td>\n",
              "      <td>0.310528</td>\n",
              "      <td>-0.045475</td>\n",
              "      <td>-0.021982</td>\n",
              "    </tr>\n",
              "    <tr>\n",
              "      <th>4</th>\n",
              "      <td>0.326192</td>\n",
              "      <td>1.135080</td>\n",
              "      <td>-0.14288</td>\n",
              "      <td>-0.219029</td>\n",
              "      <td>-0.033058</td>\n",
              "      <td>5.743913</td>\n",
              "      <td>-0.259894</td>\n",
              "      <td>-0.013254</td>\n",
              "      <td>-1.752520</td>\n",
              "      <td>-0.190925</td>\n",
              "      <td>...</td>\n",
              "      <td>-0.03315</td>\n",
              "      <td>-0.061206</td>\n",
              "      <td>-0.018745</td>\n",
              "      <td>-0.049201</td>\n",
              "      <td>-0.041945</td>\n",
              "      <td>-0.023898</td>\n",
              "      <td>-0.023898</td>\n",
              "      <td>0.310528</td>\n",
              "      <td>-0.045475</td>\n",
              "      <td>-0.021982</td>\n",
              "    </tr>\n",
              "  </tbody>\n",
              "</table>\n",
              "<p>5 rows × 88 columns</p>\n",
              "</div>"
            ],
            "text/plain": [
              "   num_pipeline__age  num_pipeline__education-num  num_pipeline__capital-gain  \\\n",
              "0          -0.555208                     0.356117                    -0.14288   \n",
              "1          -1.069359                     1.135080                    -0.14288   \n",
              "2           1.574844                    -0.033365                    -0.14288   \n",
              "3          -0.555208                    -0.033365                    -0.14288   \n",
              "4           0.326192                     1.135080                    -0.14288   \n",
              "\n",
              "   num_pipeline__capital-loss  num_pipeline__hours-per-week  \\\n",
              "0                   -0.219029                     -0.033058   \n",
              "1                   -0.219029                     -0.033058   \n",
              "2                   -0.219029                      1.587834   \n",
              "3                   -0.219029                     -0.033058   \n",
              "4                   -0.219029                     -0.033058   \n",
              "\n",
              "   cat_pipeline__workclass_Federal-gov  cat_pipeline__workclass_Local-gov  \\\n",
              "0                            -0.174097                          -0.259894   \n",
              "1                             5.743913                          -0.259894   \n",
              "2                            -0.174097                           3.847726   \n",
              "3                            -0.174097                          -0.259894   \n",
              "4                             5.743913                          -0.259894   \n",
              "\n",
              "   cat_pipeline__workclass_Never-worked  cat_pipeline__workclass_Private  \\\n",
              "0                             -0.013254                        -1.752520   \n",
              "1                             -0.013254                        -1.752520   \n",
              "2                             -0.013254                        -1.752520   \n",
              "3                             -0.013254                         0.570607   \n",
              "4                             -0.013254                        -1.752520   \n",
              "\n",
              "   cat_pipeline__workclass_Self-emp-inc  ...  cat_pipeline__country_Portugal  \\\n",
              "0                             -0.190925  ...                        -0.03315   \n",
              "1                             -0.190925  ...                        -0.03315   \n",
              "2                             -0.190925  ...                        -0.03315   \n",
              "3                             -0.190925  ...                        -0.03315   \n",
              "4                             -0.190925  ...                        -0.03315   \n",
              "\n",
              "   cat_pipeline__country_Puerto-Rico  cat_pipeline__country_Scotland  \\\n",
              "0                          -0.061206                       -0.018745   \n",
              "1                          -0.061206                       -0.018745   \n",
              "2                          -0.061206                       -0.018745   \n",
              "3                          -0.061206                       -0.018745   \n",
              "4                          -0.061206                       -0.018745   \n",
              "\n",
              "   cat_pipeline__country_South  cat_pipeline__country_Taiwan  \\\n",
              "0                    -0.049201                     -0.041945   \n",
              "1                    -0.049201                     -0.041945   \n",
              "2                    -0.049201                     -0.041945   \n",
              "3                    -0.049201                     -0.041945   \n",
              "4                    -0.049201                     -0.041945   \n",
              "\n",
              "   cat_pipeline__country_Thailand  cat_pipeline__country_Trinadad&Tobago  \\\n",
              "0                       -0.023898                              -0.023898   \n",
              "1                       -0.023898                              -0.023898   \n",
              "2                       -0.023898                              -0.023898   \n",
              "3                       -0.023898                              -0.023898   \n",
              "4                       -0.023898                              -0.023898   \n",
              "\n",
              "   cat_pipeline__country_United-States  cat_pipeline__country_Vietnam  \\\n",
              "0                             0.310528                      -0.045475   \n",
              "1                             0.310528                      -0.045475   \n",
              "2                            -3.220317                      -0.045475   \n",
              "3                             0.310528                      -0.045475   \n",
              "4                             0.310528                      -0.045475   \n",
              "\n",
              "   cat_pipeline__country_Yugoslavia  \n",
              "0                         -0.021982  \n",
              "1                         -0.021982  \n",
              "2                         -0.021982  \n",
              "3                         -0.021982  \n",
              "4                         -0.021982  \n",
              "\n",
              "[5 rows x 88 columns]"
            ]
          },
          "execution_count": 36,
          "metadata": {},
          "output_type": "execute_result"
        }
      ],
      "source": [
        "x_test.head()"
      ]
    },
    {
      "cell_type": "code",
      "execution_count": 37,
      "metadata": {
        "id": "lgPDLTCFX6VC"
      },
      "outputs": [],
      "source": [
        "#Now create classification model \n",
        "from sklearn.linear_model import LogisticRegression\n",
        "from sklearn.tree import DecisionTreeClassifier\n",
        "from sklearn.ensemble import RandomForestClassifier, AdaBoostClassifier\n",
        "from sklearn.svm import SVC\n",
        "from sklearn.neighbors import KNeighborsClassifier\n",
        "from sklearn.model_selection import RandomizedSearchCV, GridSearchCV\n",
        "import xgboost as xgb\n",
        "import lightgbm as ltb"
      ]
    },
    {
      "cell_type": "code",
      "execution_count": 38,
      "metadata": {
        "id": "MR_R9lF-GV0W"
      },
      "outputs": [],
      "source": [
        "#Create an evaluate function to give all metrics after model training\n",
        "from sklearn.metrics import accuracy_score, confusion_matrix, classification_report\n",
        "def evaluate_model(true, predicted):\n",
        "    score = accuracy_score(true, predicted)\n",
        "    cm = confusion_matrix(true, predicted)\n",
        "    report = classification_report(true, predicted)\n",
        "    return score, cm, report"
      ]
    },
    {
      "cell_type": "code",
      "execution_count": 39,
      "metadata": {
        "colab": {
          "base_uri": "https://localhost:8080/"
        },
        "id": "V9ApJulwGV3q",
        "outputId": "8095f85f-bcf2-4c0b-f673-7702a7a2004d"
      },
      "outputs": [
        {
          "name": "stdout",
          "output_type": "stream",
          "text": [
            "Logistic Regression\n",
            "Model performance for Training set\n",
            "- Accuracy Score: 0.8519\n",
            "- Confusion Matrix: \n",
            " [[16088  1205]\n",
            " [ 2168  3314]]\n",
            "- Classification Report: \n",
            "               precision    recall  f1-score   support\n",
            "\n",
            "           0       0.88      0.93      0.91     17293\n",
            "           1       0.73      0.60      0.66      5482\n",
            "\n",
            "    accuracy                           0.85     22775\n",
            "   macro avg       0.81      0.77      0.78     22775\n",
            "weighted avg       0.85      0.85      0.85     22775\n",
            "\n",
            "----------------------------------\n",
            "Model performance for Test set\n",
            "- Accuracy Score: 0.8506\n",
            "- Confusion Matrix: \n",
            " [[6863  542]\n",
            " [ 916 1441]]\n",
            "- Classification Report: \n",
            "               precision    recall  f1-score   support\n",
            "\n",
            "           0       0.88      0.93      0.90      7405\n",
            "           1       0.73      0.61      0.66      2357\n",
            "\n",
            "    accuracy                           0.85      9762\n",
            "   macro avg       0.80      0.77      0.78      9762\n",
            "weighted avg       0.84      0.85      0.85      9762\n",
            "\n",
            "===================================\n",
            "\n",
            "\n",
            "K-Neighbors Classifier\n",
            "Model performance for Training set\n",
            "- Accuracy Score: 0.8768\n",
            "- Confusion Matrix: \n",
            " [[16238  1055]\n",
            " [ 1751  3731]]\n",
            "- Classification Report: \n",
            "               precision    recall  f1-score   support\n",
            "\n",
            "           0       0.90      0.94      0.92     17293\n",
            "           1       0.78      0.68      0.73      5482\n",
            "\n",
            "    accuracy                           0.88     22775\n",
            "   macro avg       0.84      0.81      0.82     22775\n",
            "weighted avg       0.87      0.88      0.87     22775\n",
            "\n",
            "----------------------------------\n",
            "Model performance for Test set\n",
            "- Accuracy Score: 0.8285\n",
            "- Confusion Matrix: \n",
            " [[6717  688]\n",
            " [ 986 1371]]\n",
            "- Classification Report: \n",
            "               precision    recall  f1-score   support\n",
            "\n",
            "           0       0.87      0.91      0.89      7405\n",
            "           1       0.67      0.58      0.62      2357\n",
            "\n",
            "    accuracy                           0.83      9762\n",
            "   macro avg       0.77      0.74      0.76      9762\n",
            "weighted avg       0.82      0.83      0.82      9762\n",
            "\n",
            "===================================\n",
            "\n",
            "\n",
            "Support Vector Machine\n",
            "Model performance for Training set\n",
            "- Accuracy Score: 0.8587\n",
            "- Confusion Matrix: \n",
            " [[16252  1041]\n",
            " [ 2178  3304]]\n",
            "- Classification Report: \n",
            "               precision    recall  f1-score   support\n",
            "\n",
            "           0       0.88      0.94      0.91     17293\n",
            "           1       0.76      0.60      0.67      5482\n",
            "\n",
            "    accuracy                           0.86     22775\n",
            "   macro avg       0.82      0.77      0.79     22775\n",
            "weighted avg       0.85      0.86      0.85     22775\n",
            "\n",
            "----------------------------------\n",
            "Model performance for Test set\n",
            "- Accuracy Score: 0.8474\n",
            "- Confusion Matrix: \n",
            " [[6897  508]\n",
            " [ 982 1375]]\n",
            "- Classification Report: \n",
            "               precision    recall  f1-score   support\n",
            "\n",
            "           0       0.88      0.93      0.90      7405\n",
            "           1       0.73      0.58      0.65      2357\n",
            "\n",
            "    accuracy                           0.85      9762\n",
            "   macro avg       0.80      0.76      0.78      9762\n",
            "weighted avg       0.84      0.85      0.84      9762\n",
            "\n",
            "===================================\n",
            "\n",
            "\n",
            "Random Forest Classifier\n",
            "Model performance for Training set\n",
            "- Accuracy Score: 0.9796\n",
            "- Confusion Matrix: \n",
            " [[17114   179]\n",
            " [  286  5196]]\n",
            "- Classification Report: \n",
            "               precision    recall  f1-score   support\n",
            "\n",
            "           0       0.98      0.99      0.99     17293\n",
            "           1       0.97      0.95      0.96      5482\n",
            "\n",
            "    accuracy                           0.98     22775\n",
            "   macro avg       0.98      0.97      0.97     22775\n",
            "weighted avg       0.98      0.98      0.98     22775\n",
            "\n",
            "----------------------------------\n",
            "Model performance for Test set\n",
            "- Accuracy Score: 0.8465\n",
            "- Confusion Matrix: \n",
            " [[6786  619]\n",
            " [ 879 1478]]\n",
            "- Classification Report: \n",
            "               precision    recall  f1-score   support\n",
            "\n",
            "           0       0.89      0.92      0.90      7405\n",
            "           1       0.70      0.63      0.66      2357\n",
            "\n",
            "    accuracy                           0.85      9762\n",
            "   macro avg       0.80      0.77      0.78      9762\n",
            "weighted avg       0.84      0.85      0.84      9762\n",
            "\n",
            "===================================\n",
            "\n",
            "\n",
            "Decision Tree Classifier\n",
            "Model performance for Training set\n",
            "- Accuracy Score: 0.9796\n",
            "- Confusion Matrix: \n",
            " [[17217    76]\n",
            " [  389  5093]]\n",
            "- Classification Report: \n",
            "               precision    recall  f1-score   support\n",
            "\n",
            "           0       0.98      1.00      0.99     17293\n",
            "           1       0.99      0.93      0.96      5482\n",
            "\n",
            "    accuracy                           0.98     22775\n",
            "   macro avg       0.98      0.96      0.97     22775\n",
            "weighted avg       0.98      0.98      0.98     22775\n",
            "\n",
            "----------------------------------\n",
            "Model performance for Test set\n",
            "- Accuracy Score: 0.8138\n",
            "- Confusion Matrix: \n",
            " [[6462  943]\n",
            " [ 875 1482]]\n",
            "- Classification Report: \n",
            "               precision    recall  f1-score   support\n",
            "\n",
            "           0       0.88      0.87      0.88      7405\n",
            "           1       0.61      0.63      0.62      2357\n",
            "\n",
            "    accuracy                           0.81      9762\n",
            "   macro avg       0.75      0.75      0.75      9762\n",
            "weighted avg       0.82      0.81      0.81      9762\n",
            "\n",
            "===================================\n",
            "\n",
            "\n",
            "AdaBoost Classifier\n",
            "Model performance for Training set\n",
            "- Accuracy Score: 0.8595\n",
            "- Confusion Matrix: \n",
            " [[16289  1004]\n",
            " [ 2197  3285]]\n",
            "- Classification Report: \n",
            "               precision    recall  f1-score   support\n",
            "\n",
            "           0       0.88      0.94      0.91     17293\n",
            "           1       0.77      0.60      0.67      5482\n",
            "\n",
            "    accuracy                           0.86     22775\n",
            "   macro avg       0.82      0.77      0.79     22775\n",
            "weighted avg       0.85      0.86      0.85     22775\n",
            "\n",
            "----------------------------------\n",
            "Model performance for Test set\n",
            "- Accuracy Score: 0.8609\n",
            "- Confusion Matrix: \n",
            " [[6980  425]\n",
            " [ 933 1424]]\n",
            "- Classification Report: \n",
            "               precision    recall  f1-score   support\n",
            "\n",
            "           0       0.88      0.94      0.91      7405\n",
            "           1       0.77      0.60      0.68      2357\n",
            "\n",
            "    accuracy                           0.86      9762\n",
            "   macro avg       0.83      0.77      0.79      9762\n",
            "weighted avg       0.86      0.86      0.85      9762\n",
            "\n",
            "===================================\n",
            "\n",
            "\n",
            "XGBoost Classifier\n",
            "Model performance for Training set\n",
            "- Accuracy Score: 0.8990\n",
            "- Confusion Matrix: \n",
            " [[16457   836]\n",
            " [ 1465  4017]]\n",
            "- Classification Report: \n",
            "               precision    recall  f1-score   support\n",
            "\n",
            "           0       0.92      0.95      0.93     17293\n",
            "           1       0.83      0.73      0.78      5482\n",
            "\n",
            "    accuracy                           0.90     22775\n",
            "   macro avg       0.87      0.84      0.86     22775\n",
            "weighted avg       0.90      0.90      0.90     22775\n",
            "\n",
            "----------------------------------\n",
            "Model performance for Test set\n",
            "- Accuracy Score: 0.8685\n",
            "- Confusion Matrix: \n",
            " [[6911  494]\n",
            " [ 790 1567]]\n",
            "- Classification Report: \n",
            "               precision    recall  f1-score   support\n",
            "\n",
            "           0       0.90      0.93      0.92      7405\n",
            "           1       0.76      0.66      0.71      2357\n",
            "\n",
            "    accuracy                           0.87      9762\n",
            "   macro avg       0.83      0.80      0.81      9762\n",
            "weighted avg       0.86      0.87      0.87      9762\n",
            "\n",
            "===================================\n",
            "\n",
            "\n",
            "LGBM Classifier\n",
            "Model performance for Training set\n",
            "- Accuracy Score: 0.8885\n",
            "- Confusion Matrix: \n",
            " [[16415   878]\n",
            " [ 1662  3820]]\n",
            "- Classification Report: \n",
            "               precision    recall  f1-score   support\n",
            "\n",
            "           0       0.91      0.95      0.93     17293\n",
            "           1       0.81      0.70      0.75      5482\n",
            "\n",
            "    accuracy                           0.89     22775\n",
            "   macro avg       0.86      0.82      0.84     22775\n",
            "weighted avg       0.89      0.89      0.89     22775\n",
            "\n",
            "----------------------------------\n",
            "Model performance for Test set\n",
            "- Accuracy Score: 0.8684\n",
            "- Confusion Matrix: \n",
            " [[6939  466]\n",
            " [ 819 1538]]\n",
            "- Classification Report: \n",
            "               precision    recall  f1-score   support\n",
            "\n",
            "           0       0.89      0.94      0.92      7405\n",
            "           1       0.77      0.65      0.71      2357\n",
            "\n",
            "    accuracy                           0.87      9762\n",
            "   macro avg       0.83      0.79      0.81      9762\n",
            "weighted avg       0.86      0.87      0.86      9762\n",
            "\n",
            "===================================\n",
            "\n",
            "\n"
          ]
        }
      ],
      "source": [
        "models = {\n",
        "    \"Logistic Regression\": LogisticRegression(),\n",
        "    \"K-Neighbors Classifier\": KNeighborsClassifier(),\n",
        "    \"Support Vector Machine\": SVC(),\n",
        "    \"Random Forest Classifier\": RandomForestClassifier(),\n",
        "    \"Decision Tree Classifier\": DecisionTreeClassifier(), \n",
        "    \"AdaBoost Classifier\": AdaBoostClassifier(),\n",
        "    \"XGBoost Classifier\": xgb.XGBClassifier(),\n",
        "    \"LGBM Classifier\": ltb.LGBMClassifier()\n",
        "}\n",
        "model_list = []\n",
        "scores =[]\n",
        "\n",
        "for i in range(len(list(models))):\n",
        "    model = list(models.values())[i]\n",
        "    model.fit(x_train, y_train) # Train model\n",
        "\n",
        "    # Make predictions\n",
        "    y_train_pred = model.predict(x_train)\n",
        "    y_test_pred = model.predict(x_test)\n",
        "    \n",
        "    # Evaluate Train and Test dataset\n",
        "    model_train_score , model_train_cm, model_train_report = evaluate_model(y_train, y_train_pred)\n",
        "\n",
        "    model_test_score , model_test_cm, model_test_report = evaluate_model(y_test, y_test_pred)\n",
        "\n",
        "    \n",
        "    print(list(models.keys())[i])\n",
        "    model_list.append(list(models.keys())[i])\n",
        "    \n",
        "    print('Model performance for Training set')\n",
        "    print(\"- Accuracy Score: {:.4f}\".format(model_train_score))\n",
        "    print(\"- Confusion Matrix: \\n\",model_train_cm)\n",
        "    print(\"- Classification Report: \\n\",model_train_report)\n",
        "\n",
        "    print('----------------------------------')\n",
        "    \n",
        "    print('Model performance for Test set')\n",
        "    print(\"- Accuracy Score: {:.4f}\".format(model_test_score))\n",
        "    print(\"- Confusion Matrix: \\n\",model_test_cm)\n",
        "    print(\"- Classification Report: \\n\",model_test_report)\n",
        "\n",
        "    scores.append(model_test_score)\n",
        "    \n",
        "    print('='*35)\n",
        "    print('\\n')"
      ]
    },
    {
      "cell_type": "code",
      "execution_count": null,
      "metadata": {
        "id": "1cE6fNY-GV8N"
      },
      "outputs": [],
      "source": []
    },
    {
      "cell_type": "code",
      "execution_count": 40,
      "metadata": {
        "colab": {
          "base_uri": "https://localhost:8080/",
          "height": 300
        },
        "id": "z2HN_2QdGWAq",
        "outputId": "e8e87a49-ff5e-4a5c-8a38-4cf431581ea9"
      },
      "outputs": [
        {
          "data": {
            "text/html": [
              "<div>\n",
              "<style scoped>\n",
              "    .dataframe tbody tr th:only-of-type {\n",
              "        vertical-align: middle;\n",
              "    }\n",
              "\n",
              "    .dataframe tbody tr th {\n",
              "        vertical-align: top;\n",
              "    }\n",
              "\n",
              "    .dataframe thead th {\n",
              "        text-align: right;\n",
              "    }\n",
              "</style>\n",
              "<table border=\"1\" class=\"dataframe\">\n",
              "  <thead>\n",
              "    <tr style=\"text-align: right;\">\n",
              "      <th></th>\n",
              "      <th>Model Name</th>\n",
              "      <th>Scores</th>\n",
              "    </tr>\n",
              "  </thead>\n",
              "  <tbody>\n",
              "    <tr>\n",
              "      <th>6</th>\n",
              "      <td>XGBoost Classifier</td>\n",
              "      <td>0.868470</td>\n",
              "    </tr>\n",
              "    <tr>\n",
              "      <th>7</th>\n",
              "      <td>LGBM Classifier</td>\n",
              "      <td>0.868367</td>\n",
              "    </tr>\n",
              "    <tr>\n",
              "      <th>5</th>\n",
              "      <td>AdaBoost Classifier</td>\n",
              "      <td>0.860889</td>\n",
              "    </tr>\n",
              "    <tr>\n",
              "      <th>0</th>\n",
              "      <td>Logistic Regression</td>\n",
              "      <td>0.850645</td>\n",
              "    </tr>\n",
              "    <tr>\n",
              "      <th>2</th>\n",
              "      <td>Support Vector Machine</td>\n",
              "      <td>0.847367</td>\n",
              "    </tr>\n",
              "    <tr>\n",
              "      <th>3</th>\n",
              "      <td>Random Forest Classifier</td>\n",
              "      <td>0.846548</td>\n",
              "    </tr>\n",
              "    <tr>\n",
              "      <th>1</th>\n",
              "      <td>K-Neighbors Classifier</td>\n",
              "      <td>0.828519</td>\n",
              "    </tr>\n",
              "    <tr>\n",
              "      <th>4</th>\n",
              "      <td>Decision Tree Classifier</td>\n",
              "      <td>0.813768</td>\n",
              "    </tr>\n",
              "  </tbody>\n",
              "</table>\n",
              "</div>"
            ],
            "text/plain": [
              "                 Model Name    Scores\n",
              "6        XGBoost Classifier  0.868470\n",
              "7           LGBM Classifier  0.868367\n",
              "5       AdaBoost Classifier  0.860889\n",
              "0       Logistic Regression  0.850645\n",
              "2    Support Vector Machine  0.847367\n",
              "3  Random Forest Classifier  0.846548\n",
              "1    K-Neighbors Classifier  0.828519\n",
              "4  Decision Tree Classifier  0.813768"
            ]
          },
          "execution_count": 40,
          "metadata": {},
          "output_type": "execute_result"
        }
      ],
      "source": [
        "### Results\n",
        "pd.DataFrame(list(zip(model_list, scores)), columns=['Model Name', 'Scores']).sort_values(by=[\"Scores\"],ascending=False)"
      ]
    },
    {
      "cell_type": "code",
      "execution_count": 41,
      "metadata": {
        "id": "V1_lh0vGGWE0"
      },
      "outputs": [],
      "source": [
        "#Here we can say that XGBoost,LGBM and AdaBoost classifier model gives good accuracy than other models."
      ]
    },
    {
      "cell_type": "code",
      "execution_count": null,
      "metadata": {
        "id": "ZKqiqoJu6hU_"
      },
      "outputs": [],
      "source": []
    },
    {
      "cell_type": "code",
      "execution_count": null,
      "metadata": {
        "id": "XWc2BI2rMDe-"
      },
      "outputs": [],
      "source": []
    }
  ],
  "metadata": {
    "colab": {
      "provenance": []
    },
    "kernelspec": {
      "display_name": "Python 3",
      "name": "python3"
    },
    "language_info": {
      "codemirror_mode": {
        "name": "ipython",
        "version": 3
      },
      "file_extension": ".py",
      "mimetype": "text/x-python",
      "name": "python",
      "nbconvert_exporter": "python",
      "pygments_lexer": "ipython3",
      "version": "3.8.0"
    }
  },
  "nbformat": 4,
  "nbformat_minor": 0
}
